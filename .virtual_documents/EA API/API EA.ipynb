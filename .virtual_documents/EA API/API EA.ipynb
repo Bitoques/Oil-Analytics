


import requests
import json
import pandas as pd
from io import StringIO
from datetime import datetime


my_key = 





url = "https://api.energyaspects.com/data/datasets/timeseries?api_key=aed5e4a5-141c-4f34-84cb-b3d991fc0ba5"

headers = {"accept": "application/json"}

response = requests.get(url, headers=headers)

response = response.json()


#print(response)


# Create the csv file
structured_data = []
for item in response:
    dataset = {
        "dataset_id": item["dataset_id"],
        "description": item["metadata"]["description"],
        "source": item["metadata"]["source"],
        "aspect": item["metadata"]["aspect"],
        "aspect_subtype": item["metadata"]["aspect_subtype"],
        "category": item["metadata"]["category"],
        "category_subtype": item["metadata"]["category_subtype"],
        "frequency": item["metadata"]["frequency"],
        "lifecycle_stage": item["metadata"]["lifecycle_stage"],
        "region": item["metadata"]["region"],
        "unit": item["metadata"]["unit"],
        "country": item["metadata"]["country"],
        "country_iso": item["metadata"]["country_iso"],
        "sub_region": item["metadata"]["sub_region"],
        "licensed": item["metadata"]["licensed"]
    }
    structured_data.append(dataset)

# Convert to pandas DataFrame
df = pd.DataFrame(structured_data)

file_name = "datasets_ids.csv"

df.to_csv(file_name, index=False)





df_filtered = df[df['description'].str.contains('Europe', case=False, na=False) &
                 df['description'].str.contains('monthly', case=False, na=False)]

df_filtered.to_csv("df_filtered.csv", index=False)


url = "https://api.energyaspects.com/data/datasets/timeseries/json?api_key=aed5e4a5-141c-4f34-84cb-b3d991fc0ba5&dataset_id=7123"

headers = {"accept": "application/json"}

response = requests.get(url, headers=headers)

print(response.text)


json_data = json.dumps(response.json(), indent=2)

# Print the formatted JSON
print(json_data)
