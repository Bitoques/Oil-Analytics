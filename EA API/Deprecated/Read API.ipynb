{
 "cells": [
  {
   "cell_type": "markdown",
   "id": "05a9e5c1-e9c6-4629-afba-78b9cb2d9517",
   "metadata": {},
   "source": [
    "# Read API"
   ]
  },
  {
   "cell_type": "markdown",
   "id": "9f8867f4-a2ea-4299-9fd9-ef102449ca52",
   "metadata": {},
   "source": [
    "Use this workbook to run the read_API functions and save the desired API's output in a csv"
   ]
  },
  {
   "cell_type": "code",
   "execution_count": 1,
   "id": "f998178b-aa95-4421-9c6a-07e7090b3cc2",
   "metadata": {},
   "outputs": [],
   "source": [
    "import read_API\n",
    "import pandas as pd"
   ]
  },
  {
   "cell_type": "code",
   "execution_count": 2,
   "id": "633f7ee6-980c-4bea-9039-6ca1f363303c",
   "metadata": {},
   "outputs": [],
   "source": [
    "# either type your api key here, or use Environment variables to pass.\n",
    "api_key = \"aed5e4a5-141c-4f34-84cb-b3d991fc0ba5\"\n",
    "\n",
    "# set the dataset ids you want to extract here\n",
    "ids = [7022,7094,6864,7041,7042,581144]\n",
    "\n",
    "# dataset name\n",
    "df_name = \"Refinery_Maintenances.csv\""
   ]
  },
  {
   "cell_type": "code",
   "execution_count": 3,
   "id": "3da74327-4076-4130-a49b-e6e6ae8bcb04",
   "metadata": {},
   "outputs": [],
   "source": [
    "# this will get all the data in a wide format with descriptions as column names\n",
    "df = read_API.get_data(ids, api_key)\n",
    "\n",
    "# save a csv with the needed data\n",
    "df.to_csv(df_name, index=False)"
   ]
  }
 ],
 "metadata": {
  "kernelspec": {
   "display_name": "Python 3 (ipykernel)",
   "language": "python",
   "name": "python3"
  },
  "language_info": {
   "codemirror_mode": {
    "name": "ipython",
    "version": 3
   },
   "file_extension": ".py",
   "mimetype": "text/x-python",
   "name": "python",
   "nbconvert_exporter": "python",
   "pygments_lexer": "ipython3",
   "version": "3.12.7"
  }
 },
 "nbformat": 4,
 "nbformat_minor": 5
}
