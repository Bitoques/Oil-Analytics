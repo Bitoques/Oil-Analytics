{
 "cells": [
  {
   "cell_type": "markdown",
   "id": "a4859cad-16d0-4221-8f7d-53b3fa9d212f",
   "metadata": {},
   "source": [
    "# Refinery Maintenances"
   ]
  }
 ],
 "metadata": {
  "kernelspec": {
   "display_name": "Python 3 (ipykernel)",
   "language": "python",
   "name": "python3"
  },
  "language_info": {
   "codemirror_mode": {
    "name": "ipython",
    "version": 3
   },
   "file_extension": ".py",
   "mimetype": "text/x-python",
   "name": "python",
   "nbconvert_exporter": "python",
   "pygments_lexer": "ipython3",
   "version": "3.12.7"
  }
 },
 "nbformat": 4,
 "nbformat_minor": 5
}
