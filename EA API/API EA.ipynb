{
 "cells": [
  {
   "cell_type": "markdown",
   "id": "68c66b64-6eec-4b82-b309-b88b441702b5",
   "metadata": {},
   "source": [
    "# Run the EA API\n",
    "\n",
    "This notebook is used to call EA's APIs. Use wiselly to avoid excessive calls!"
   ]
  },
  {
   "cell_type": "code",
   "execution_count": 13,
   "id": "edb97e66-19a4-4808-861f-6248f4bafe1a",
   "metadata": {},
   "outputs": [],
   "source": [
    "import requests\n",
    "import json\n",
    "import pandas as pd\n",
    "from io import StringIO\n",
    "from datetime import datetime"
   ]
  },
  {
   "cell_type": "code",
   "execution_count": 7,
   "id": "d4d05dfe-227f-4322-b226-8ac50f584806",
   "metadata": {},
   "outputs": [],
   "source": [
    "my_key = \"aed5e4a5-141c-4f34-84cb-b3d991fc0ba5\""
   ]
  },
  {
   "cell_type": "markdown",
   "id": "d6b18730-f70b-4fb0-b7f4-a53173dcf39c",
   "metadata": {},
   "source": [
    "### EA APIs\n",
    "\n",
    "This API delivers the list of all available EA APIs. It also shows all columns available in each and if we are licensed to get their data.\n",
    "\n",
    "A csv file is written with the list of all APIs' id, their name and if we have access."
   ]
  },
  {
   "cell_type": "code",
   "execution_count": 14,
   "id": "59f5a590-9d68-41a5-aca7-b9bb5aa9a458",
   "metadata": {},
   "outputs": [
    {
     "ename": "AttributeError",
     "evalue": "'list' object has no attribute 'text'",
     "output_type": "error",
     "traceback": [
      "\u001b[1;31m---------------------------------------------------------------------------\u001b[0m",
      "\u001b[1;31mAttributeError\u001b[0m                            Traceback (most recent call last)",
      "Cell \u001b[1;32mIn[14], line 14\u001b[0m\n\u001b[0;32m      7\u001b[0m response \u001b[38;5;241m=\u001b[39m response\u001b[38;5;241m.\u001b[39mjson()\n\u001b[0;32m      9\u001b[0m \u001b[38;5;66;03m#response = pd.read_csv(StringIO(response.text), sep=\";\")\u001b[39;00m\n\u001b[0;32m     10\u001b[0m \u001b[38;5;66;03m#file_name = \"datasets_ids.csv\"\u001b[39;00m\n\u001b[0;32m     11\u001b[0m \n\u001b[0;32m     12\u001b[0m \u001b[38;5;66;03m#response.to_csv(file_name, index=False)\u001b[39;00m\n\u001b[1;32m---> 14\u001b[0m \u001b[38;5;28mprint\u001b[39m(response\u001b[38;5;241m.\u001b[39mtext)\n",
      "\u001b[1;31mAttributeError\u001b[0m: 'list' object has no attribute 'text'"
     ]
    }
   ],
   "source": [
    "url = \"https://api.energyaspects.com/data/datasets/timeseries?api_key=aed5e4a5-141c-4f34-84cb-b3d991fc0ba5\"\n",
    "\n",
    "headers = {\"accept\": \"application/json\"}\n",
    "\n",
    "response = requests.get(url, headers=headers)\n",
    "\n",
    "response = response.json()"
   ]
  },
  {
   "cell_type": "code",
   "execution_count": 22,
   "id": "86d2d4d4-cb9c-406a-9109-aad218653647",
   "metadata": {},
   "outputs": [
    {
     "name": "stdout",
     "output_type": "stream",
     "text": [
      "       dataset_id                                        description licensed\n",
      "0             212  Monthly EA forecast for gasoline refinery yiel...      yes\n",
      "1             213  Monthly EA forecast for gasoline refinery yiel...      yes\n",
      "2             214  Monthly EA forecast for gasoline refinery yiel...      yes\n",
      "3             215  Monthly EA forecast for gasoline refinery yiel...      yes\n",
      "4             216  Monthly EA forecast for gasoline refinery yiel...      yes\n",
      "...           ...                                                ...      ...\n",
      "14867      583750  Monthly refinery nameplate capacity for Spain:...      yes\n",
      "14868      583751  Monthly refinery nameplate capacity for France...      yes\n",
      "14869      583752  Monthly refinery nameplate capacity for France...      yes\n",
      "14870      583753  Monthly refinery nameplate capacity for Spain:...      yes\n",
      "14871      583754  Monthly refinery nameplate capacity for Albani...      yes\n",
      "\n",
      "[14872 rows x 3 columns]\n"
     ]
    }
   ],
   "source": [
    "# Create the csv file\n",
    "structured_data = []\n",
    "for item in response:\n",
    "    dataset = {\n",
    "        \"dataset_id\": item[\"dataset_id\"],\n",
    "        \"description\": item[\"metadata\"][\"description\"],\n",
    "        \"licensed\": item[\"metadata\"][\"licensed\"]\n",
    "    }\n",
    "    structured_data.append(dataset)\n",
    "\n",
    "# Convert to pandas DataFrame\n",
    "df = pd.DataFrame(structured_data)\n",
    "\n",
    "# Display the organized data\n",
    "print(df)\n",
    "\n",
    "file_name = \"datasets_ids.csv\"\n",
    "\n",
    "df.to_csv(file_name, index=False)"
   ]
  },
  {
   "cell_type": "markdown",
   "id": "d9836e95-f9fa-48b5-9833-03423b320e9f",
   "metadata": {},
   "source": [
    "Check a specific dataset's charateristics:"
   ]
  },
  {
   "cell_type": "code",
   "execution_count": 34,
   "id": "d5953cb1-d17d-4f5a-9cbc-38b4d372d332",
   "metadata": {},
   "outputs": [
    {
     "name": "stdout",
     "output_type": "stream",
     "text": [
      "[{\"dataset_id\":212,\"metadata\":{\"description\":\"Monthly EA forecast for gasoline refinery yield in North America as a %\",\"source\":\"Energy Aspects\",\"date_from_min\":\"2009-01-01\",\"date_to_max\":\"2025-12-01\",\"aspect\":\"yield\",\"aspect_subtype\":null,\"category\":\"oil_products\",\"category_subtype\":\"gasoline\",\"frequency\":\"monthly\",\"lifecycle_stage\":\"forecast\",\"region\":\"NA\",\"unit\":\"pct\",\"country\":null,\"country_iso\":null,\"sub_region\":null,\"licensed\":\"yes\",\"release_dates\":[\"2021-04-19T20:50:00\",\"2021-05-05T10:57:00\",\"2021-05-17T20:08:00\",\"2021-06-14T19:10:00\",\"2021-06-17T20:35:00\",\"2021-06-30T23:40:00\",\"2021-07-19T18:29:00\",\"2021-08-19T17:21:00\",\"2021-09-16T17:30:00\",\"2021-10-04T15:21:00\",\"2021-10-19T18:00:00\",\"2021-11-01T10:47:00\",\"2022-01-07T12:51:00\",\"2022-03-04T12:05:00\",\"2022-04-25T10:05:00\",\"2022-06-06T18:01:00\",\"2022-06-20T14:55:00\",\"2022-07-22T11:32:00\",\"2022-08-18T10:19:00\",\"2022-12-16T10:02:00\",\"2023-05-16T09:53:00\",\"2023-05-19T08:28:00\",\"2023-06-02T10:44:00\",\"2023-06-09T09:17:00\",\"2023-06-16T11:23:00\",\"2023-06-23T10:08:00\",\"2023-07-05T08:04:00\",\"2023-07-07T10:40:00\",\"2023-07-14T09:49:00\",\"2023-07-21T09:54:00\",\"2023-07-28T09:03:00\",\"2023-08-04T09:32:00\",\"2023-08-11T09:18:00\",\"2023-08-18T09:35:00\",\"2023-08-25T09:00:00\",\"2023-09-01T10:00:00\",\"2023-09-08T09:00:00\",\"2023-09-15T08:00:00\",\"2023-09-22T09:00:00\",\"2023-09-29T09:00:00\",\"2023-10-06T09:00:00\",\"2023-10-13T08:00:00\",\"2023-10-20T09:00:00\",\"2023-10-27T09:00:00\",\"2023-11-03T10:00:00\",\"2023-11-10T10:00:00\",\"2023-11-17T12:00:00\",\"2023-11-17T12:08:00\",\"2023-11-20T09:00:00\",\"2023-11-24T11:00:00\",\"2023-12-01T10:00:00\",\"2023-12-08T10:00:00\",\"2023-12-15T11:30:00\",\"2023-12-22T12:00:00\",\"2023-12-29T13:30:00\",\"2024-01-05T09:00:00\",\"2024-01-12T11:00:00\",\"2024-01-19T10:00:00\",\"2024-01-26T10:30:00\",\"2024-02-02T10:10:00\",\"2024-02-09T10:00:00\",\"2024-02-16T10:00:00\",\"2024-02-23T10:30:00\",\"2024-03-01T10:00:00\",\"2024-03-08T10:00:00\",\"2024-03-15T10:30:00\",\"2024-03-22T12:00:00\",\"2024-03-30T13:00:00\",\"2024-04-05T08:59:00\",\"2024-04-12T09:00:00\",\"2024-04-12T11:00:00\",\"2024-04-19T11:00:00\",\"2024-04-26T09:30:00\",\"2024-05-03T09:00:00\",\"2024-05-10T10:00:00\",\"2024-05-17T10:40:00\",\"2024-05-24T11:23:00\",\"2024-05-31T09:25:00\",\"2024-06-07T09:56:00\",\"2024-06-14T09:41:00\",\"2024-06-21T13:20:00\",\"2024-06-28T11:45:00\",\"2024-07-05T09:44:00\",\"2024-07-12T09:59:00\",\"2024-07-19T09:12:00\",\"2024-07-26T09:43:00\",\"2024-08-02T09:56:00\",\"2024-08-09T10:07:00\",\"2024-08-16T09:02:00\",\"2024-08-22T17:00:00\",\"2024-08-23T09:32:00\",\"2024-08-30T08:36:00\",\"2024-09-06T08:34:00\",\"2024-09-13T11:13:00\",\"2024-09-20T09:07:00\",\"2024-09-27T09:57:00\",\"2024-10-04T12:25:00\",\"2024-10-11T10:35:00\",\"2024-10-18T08:36:00\",\"2024-10-25T08:57:00\",\"2024-11-01T14:23:00\",\"2024-11-08T10:12:00\",\"2024-11-15T11:20:00\",\"2024-11-22T09:28:00\",\"2024-11-29T09:42:00\",\"2024-12-06T05:54:00\",\"2024-12-13T11:01:00\",\"2024-12-20T08:53:00\",\"2025-01-03T09:52:00\",\"2025-01-13T09:11:00\",\"2025-01-17T10:25:00\",\"2025-01-24T09:21:00\",\"2025-02-05T15:55:00\",\"2025-02-07T05:58:00\",\"2025-02-14T05:27:00\",\"2025-02-21T14:09:00\",\"2025-02-28T05:37:00\",\"2025-03-03T11:37:00\",\"2025-03-07T06:21:00\",\"2025-03-14T18:06:00\",\"2025-03-21T05:45:00\",\"2025-03-28T09:30:00\",\"2025-03-28T09:34:00\",\"2025-04-04T07:31:00\"]},\"additional_fields\":{}}]\n"
     ]
    }
   ],
   "source": [
    "url = \"https://api.energyaspects.com/data/datasets/timeseries?api_key=aed5e4a5-141c-4f34-84cb-b3d991fc0ba5&dataset_id=212\"\n",
    "\n",
    "headers = {\"accept\": \"application/json\"}\n",
    "\n",
    "response = requests.get(url, headers=headers)\n",
    "\n",
    "print(response.text)"
   ]
  },
  {
   "cell_type": "code",
   "execution_count": 35,
   "id": "09731e8e-e0aa-49e1-a15a-be87cca3ff3d",
   "metadata": {},
   "outputs": [
    {
     "ename": "TypeError",
     "evalue": "Object of type Response is not JSON serializable",
     "output_type": "error",
     "traceback": [
      "\u001b[1;31m---------------------------------------------------------------------------\u001b[0m",
      "\u001b[1;31mTypeError\u001b[0m                                 Traceback (most recent call last)",
      "Cell \u001b[1;32mIn[35], line 1\u001b[0m\n\u001b[1;32m----> 1\u001b[0m json_data \u001b[38;5;241m=\u001b[39m json\u001b[38;5;241m.\u001b[39mdumps(response, indent\u001b[38;5;241m=\u001b[39m\u001b[38;5;241m2\u001b[39m)\n\u001b[0;32m      3\u001b[0m \u001b[38;5;66;03m# Print the formatted JSON\u001b[39;00m\n\u001b[0;32m      4\u001b[0m \u001b[38;5;28mprint\u001b[39m(json_data)\n",
      "File \u001b[1;32m~\\anaconda3\\Lib\\json\\__init__.py:238\u001b[0m, in \u001b[0;36mdumps\u001b[1;34m(obj, skipkeys, ensure_ascii, check_circular, allow_nan, cls, indent, separators, default, sort_keys, **kw)\u001b[0m\n\u001b[0;32m    232\u001b[0m \u001b[38;5;28;01mif\u001b[39;00m \u001b[38;5;28mcls\u001b[39m \u001b[38;5;129;01mis\u001b[39;00m \u001b[38;5;28;01mNone\u001b[39;00m:\n\u001b[0;32m    233\u001b[0m     \u001b[38;5;28mcls\u001b[39m \u001b[38;5;241m=\u001b[39m JSONEncoder\n\u001b[0;32m    234\u001b[0m \u001b[38;5;28;01mreturn\u001b[39;00m \u001b[38;5;28mcls\u001b[39m(\n\u001b[0;32m    235\u001b[0m     skipkeys\u001b[38;5;241m=\u001b[39mskipkeys, ensure_ascii\u001b[38;5;241m=\u001b[39mensure_ascii,\n\u001b[0;32m    236\u001b[0m     check_circular\u001b[38;5;241m=\u001b[39mcheck_circular, allow_nan\u001b[38;5;241m=\u001b[39mallow_nan, indent\u001b[38;5;241m=\u001b[39mindent,\n\u001b[0;32m    237\u001b[0m     separators\u001b[38;5;241m=\u001b[39mseparators, default\u001b[38;5;241m=\u001b[39mdefault, sort_keys\u001b[38;5;241m=\u001b[39msort_keys,\n\u001b[1;32m--> 238\u001b[0m     \u001b[38;5;241m*\u001b[39m\u001b[38;5;241m*\u001b[39mkw)\u001b[38;5;241m.\u001b[39mencode(obj)\n",
      "File \u001b[1;32m~\\anaconda3\\Lib\\json\\encoder.py:202\u001b[0m, in \u001b[0;36mJSONEncoder.encode\u001b[1;34m(self, o)\u001b[0m\n\u001b[0;32m    200\u001b[0m chunks \u001b[38;5;241m=\u001b[39m \u001b[38;5;28mself\u001b[39m\u001b[38;5;241m.\u001b[39miterencode(o, _one_shot\u001b[38;5;241m=\u001b[39m\u001b[38;5;28;01mTrue\u001b[39;00m)\n\u001b[0;32m    201\u001b[0m \u001b[38;5;28;01mif\u001b[39;00m \u001b[38;5;129;01mnot\u001b[39;00m \u001b[38;5;28misinstance\u001b[39m(chunks, (\u001b[38;5;28mlist\u001b[39m, \u001b[38;5;28mtuple\u001b[39m)):\n\u001b[1;32m--> 202\u001b[0m     chunks \u001b[38;5;241m=\u001b[39m \u001b[38;5;28mlist\u001b[39m(chunks)\n\u001b[0;32m    203\u001b[0m \u001b[38;5;28;01mreturn\u001b[39;00m \u001b[38;5;124m'\u001b[39m\u001b[38;5;124m'\u001b[39m\u001b[38;5;241m.\u001b[39mjoin(chunks)\n",
      "File \u001b[1;32m~\\anaconda3\\Lib\\json\\encoder.py:439\u001b[0m, in \u001b[0;36m_make_iterencode.<locals>._iterencode\u001b[1;34m(o, _current_indent_level)\u001b[0m\n\u001b[0;32m    437\u001b[0m         \u001b[38;5;28;01mraise\u001b[39;00m \u001b[38;5;167;01mValueError\u001b[39;00m(\u001b[38;5;124m\"\u001b[39m\u001b[38;5;124mCircular reference detected\u001b[39m\u001b[38;5;124m\"\u001b[39m)\n\u001b[0;32m    438\u001b[0m     markers[markerid] \u001b[38;5;241m=\u001b[39m o\n\u001b[1;32m--> 439\u001b[0m o \u001b[38;5;241m=\u001b[39m _default(o)\n\u001b[0;32m    440\u001b[0m \u001b[38;5;28;01myield from\u001b[39;00m _iterencode(o, _current_indent_level)\n\u001b[0;32m    441\u001b[0m \u001b[38;5;28;01mif\u001b[39;00m markers \u001b[38;5;129;01mis\u001b[39;00m \u001b[38;5;129;01mnot\u001b[39;00m \u001b[38;5;28;01mNone\u001b[39;00m:\n",
      "File \u001b[1;32m~\\anaconda3\\Lib\\json\\encoder.py:180\u001b[0m, in \u001b[0;36mJSONEncoder.default\u001b[1;34m(self, o)\u001b[0m\n\u001b[0;32m    161\u001b[0m \u001b[38;5;28;01mdef\u001b[39;00m \u001b[38;5;21mdefault\u001b[39m(\u001b[38;5;28mself\u001b[39m, o):\n\u001b[0;32m    162\u001b[0m \u001b[38;5;250m    \u001b[39m\u001b[38;5;124;03m\"\"\"Implement this method in a subclass such that it returns\u001b[39;00m\n\u001b[0;32m    163\u001b[0m \u001b[38;5;124;03m    a serializable object for ``o``, or calls the base implementation\u001b[39;00m\n\u001b[0;32m    164\u001b[0m \u001b[38;5;124;03m    (to raise a ``TypeError``).\u001b[39;00m\n\u001b[1;32m   (...)\u001b[0m\n\u001b[0;32m    178\u001b[0m \n\u001b[0;32m    179\u001b[0m \u001b[38;5;124;03m    \"\"\"\u001b[39;00m\n\u001b[1;32m--> 180\u001b[0m     \u001b[38;5;28;01mraise\u001b[39;00m \u001b[38;5;167;01mTypeError\u001b[39;00m(\u001b[38;5;124mf\u001b[39m\u001b[38;5;124m'\u001b[39m\u001b[38;5;124mObject of type \u001b[39m\u001b[38;5;132;01m{\u001b[39;00mo\u001b[38;5;241m.\u001b[39m\u001b[38;5;18m__class__\u001b[39m\u001b[38;5;241m.\u001b[39m\u001b[38;5;18m__name__\u001b[39m\u001b[38;5;132;01m}\u001b[39;00m\u001b[38;5;124m \u001b[39m\u001b[38;5;124m'\u001b[39m\n\u001b[0;32m    181\u001b[0m                     \u001b[38;5;124mf\u001b[39m\u001b[38;5;124m'\u001b[39m\u001b[38;5;124mis not JSON serializable\u001b[39m\u001b[38;5;124m'\u001b[39m)\n",
      "\u001b[1;31mTypeError\u001b[0m: Object of type Response is not JSON serializable"
     ]
    }
   ],
   "source": [
    "json_data = json.dumps(response, indent=2)\n",
    "\n",
    "# Print the formatted JSON\n",
    "print(json_data)"
   ]
  }
 ],
 "metadata": {
  "kernelspec": {
   "display_name": "Python 3 (ipykernel)",
   "language": "python",
   "name": "python3"
  },
  "language_info": {
   "codemirror_mode": {
    "name": "ipython",
    "version": 3
   },
   "file_extension": ".py",
   "mimetype": "text/x-python",
   "name": "python",
   "nbconvert_exporter": "python",
   "pygments_lexer": "ipython3",
   "version": "3.12.7"
  }
 },
 "nbformat": 4,
 "nbformat_minor": 5
}
