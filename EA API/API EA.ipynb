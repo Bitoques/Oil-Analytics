{
 "cells": [
  {
   "cell_type": "markdown",
   "id": "68c66b64-6eec-4b82-b309-b88b441702b5",
   "metadata": {},
   "source": [
    "# Run the EA API\n",
    "\n",
    "This notebook is used to call EA's APIs. Use wiselly to avoid excessive calls!"
   ]
  },
  {
   "cell_type": "code",
   "execution_count": 1,
   "id": "edb97e66-19a4-4808-861f-6248f4bafe1a",
   "metadata": {},
   "outputs": [],
   "source": [
    "import requests\n",
    "import pandas as pd\n",
    "from datetime import datetime"
   ]
  },
  {
   "cell_type": "code",
   "execution_count": 2,
   "id": "d4d05dfe-227f-4322-b226-8ac50f584806",
   "metadata": {},
   "outputs": [],
   "source": [
    "my_key = \"?api_key={aed5e4a5-141c-4f34-84cb-b3d991fc0ba5}\""
   ]
  },
  {
   "cell_type": "markdown",
   "id": "d6b18730-f70b-4fb0-b7f4-a53173dcf39c",
   "metadata": {},
   "source": [
    "### Maintenances"
   ]
  },
  {
   "cell_type": "code",
   "execution_count": 3,
   "id": "59f5a590-9d68-41a5-aca7-b9bb5aa9a458",
   "metadata": {},
   "outputs": [
    {
     "name": "stderr",
     "output_type": "stream",
     "text": [
      "IOPub data rate exceeded.\n",
      "The Jupyter server will temporarily stop sending output\n",
      "to the client in order to avoid crashing it.\n",
      "To change this limit, set the config variable\n",
      "`--ServerApp.iopub_data_rate_limit`.\n",
      "\n",
      "Current values:\n",
      "ServerApp.iopub_data_rate_limit=1000000.0 (bytes/sec)\n",
      "ServerApp.rate_limit_window=3.0 (secs)\n",
      "\n"
     ]
    }
   ],
   "source": [
    "url = \"https://api.energyaspects.com/data/datasets/timeseries?api_key=aed5e4a5-141c-4f34-84cb-b3d991fc0ba5\"\n",
    "\n",
    "headers = {\"accept\": \"application/json\"}\n",
    "\n",
    "response = requests.get(url, headers=headers)\n",
    "\n",
    "print(response.text)\n"
   ]
  }
 ],
 "metadata": {
  "kernelspec": {
   "display_name": "Python 3 (ipykernel)",
   "language": "python",
   "name": "python3"
  },
  "language_info": {
   "codemirror_mode": {
    "name": "ipython",
    "version": 3
   },
   "file_extension": ".py",
   "mimetype": "text/x-python",
   "name": "python",
   "nbconvert_exporter": "python",
   "pygments_lexer": "ipython3",
   "version": "3.12.7"
  }
 },
 "nbformat": 4,
 "nbformat_minor": 5
}
