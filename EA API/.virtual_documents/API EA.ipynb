


import requests
import json
import pandas as pd
from io import StringIO
from datetime import datetime


my_key = "aed5e4a5-141c-4f34-84cb-b3d991fc0ba5"





url = "https://api.energyaspects.com/data/datasets/timeseries?api_key=aed5e4a5-141c-4f34-84cb-b3d991fc0ba5"

headers = {"accept": "application/json"}

response = requests.get(url, headers=headers)

response = response.json()


# Create the csv file
structured_data = []
for item in response:
    dataset = {
        "dataset_id": item["dataset_id"],
        "description": item["metadata"]["description"],
        "licensed": item["metadata"]["licensed"]
    }
    structured_data.append(dataset)

# Convert to pandas DataFrame
df = pd.DataFrame(structured_data)

# Display the organized data
print(df)

file_name = "datasets_ids.csv"

df.to_csv(file_name, index=False)








url = "https://api.energyaspects.com/data/datasets/timeseries?api_key=aed5e4a5-141c-4f34-84cb-b3d991fc0ba5&dataset_id=212"

headers = {"accept": "application/json"}

response = requests.get(url, headers=headers)

print(response.text)


json_data = json.dumps(response.json(), indent=2)

# Print the formatted JSON
print(json_data)
