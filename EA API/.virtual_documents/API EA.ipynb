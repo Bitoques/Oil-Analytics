


import requests
import pandas as pd
from datetime import datetime


my_key = "?api_key={aed5e4a5-141c-4f34-84cb-b3d991fc0ba5}"





url = "https://api.energyaspects.com/data/datasets/timeseries?api_key=aed5e4a5-141c-4f34-84cb-b3d991fc0ba5"

headers = {"accept": "application/json"}

response = requests.get(url, headers=headers)

print(response.text)



# Line to force push



